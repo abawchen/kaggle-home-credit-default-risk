{
 "cells": [
  {
   "cell_type": "code",
   "execution_count": 1,
   "metadata": {},
   "outputs": [],
   "source": [
    "import os\n",
    "import gc\n",
    "import time\n",
    "import pandas as pd\n",
    "import numpy as np\n",
    "import seaborn as sns\n",
    "\n",
    "from sklearn import preprocessing\n",
    "from contextlib import contextmanager\n",
    "\n",
    "%matplotlib inline"
   ]
  },
  {
   "cell_type": "code",
   "execution_count": 2,
   "metadata": {},
   "outputs": [],
   "source": [
    "@contextmanager\n",
    "def timer(title):\n",
    "    t0 = time.time()\n",
    "    yield\n",
    "    print(\"{} - done in {:.0f}s\".format(title, time.time() - t0))"
   ]
  },
  {
   "cell_type": "code",
   "execution_count": 3,
   "metadata": {},
   "outputs": [],
   "source": [
    "# One-hot encoding for categorical columns with get_dummies\n",
    "def one_hot_encoder(df, nan_as_category=True):\n",
    "    original_columns = list(df.columns)\n",
    "    categorical_columns = [col for col in df.columns if df[col].dtype == 'object']\n",
    "    df = pd.get_dummies(df, columns= categorical_columns, dummy_na= nan_as_category)\n",
    "    new_columns = [c for c in df.columns if c not in original_columns]\n",
    "    return df, new_columns"
   ]
  },
  {
   "cell_type": "code",
   "execution_count": 4,
   "metadata": {},
   "outputs": [],
   "source": [
    "# Preprocess bureau.csv and bureau_balance.csv\n",
    "def bureau_and_balance(num_rows=None, nan_as_category=True):\n",
    "    bureau = pd.read_csv('../data/raw/bureau.csv', nrows=num_rows)\n",
    "    bb = pd.read_csv('../data/raw/bureau_balance.csv', nrows=num_rows)\n",
    "    bb, bb_cat = one_hot_encoder(bb, nan_as_category)\n",
    "    bureau, bureau_cat = one_hot_encoder(bureau, nan_as_category)\n",
    "    \n",
    "    # Bureau balance: Perform aggregations and merge with bureau.csv\n",
    "    # -- MONTHS_BALANCE_MIN, MONTHS_BALANCE_MAX, MONTHS_BALANCE_SIZE group by SK_ID_BUREAU\n",
    "    bb_aggregations = {'MONTHS_BALANCE': ['min', 'max', 'size']}\n",
    "    # -- STATUS_X_MEAN group by SK_ID_BUREAU\n",
    "    for col in bb_cat:\n",
    "        bb_aggregations[col] = ['mean']\n",
    "    bb_agg = bb.groupby('SK_ID_BUREAU').agg(bb_aggregations)\n",
    "    bb_agg.columns = pd.Index([e[0] + \"_\" + e[1].upper() for e in bb_agg.columns.tolist()])\n",
    "    bureau = bureau.join(bb_agg, how='left', on='SK_ID_BUREAU')\n",
    "    bureau.drop(['SK_ID_BUREAU'], axis=1, inplace=True)\n",
    "    del bb, bb_agg\n",
    "    gc.collect()\n",
    "    \n",
    "    # Bureau and bureau_balance numeric features\n",
    "#     num_aggregations = {\n",
    "#         'DAYS_CREDIT': ['min', 'max', 'mean', 'var'],\n",
    "#         'DAYS_CREDIT_ENDDATE': ['min', 'max', 'mean'],\n",
    "#         'DAYS_CREDIT_UPDATE': ['mean'],\n",
    "#         'CREDIT_DAY_OVERDUE': ['max', 'mean'],\n",
    "#         'AMT_CREDIT_MAX_OVERDUE': ['mean'],\n",
    "#         'AMT_CREDIT_SUM': ['max', 'mean', 'sum'],\n",
    "#         'AMT_CREDIT_SUM_DEBT': ['max', 'mean', 'sum'],\n",
    "#         'AMT_CREDIT_SUM_OVERDUE': ['mean'],\n",
    "#         'AMT_CREDIT_SUM_LIMIT': ['mean', 'sum'],\n",
    "#         'AMT_ANNUITY': ['max', 'mean'],\n",
    "#         'CNT_CREDIT_PROLONG': ['sum'],\n",
    "#         'MONTHS_BALANCE_MIN': ['min'],\n",
    "#         'MONTHS_BALANCE_MAX': ['max'],\n",
    "#         'MONTHS_BALANCE_SIZE': ['mean', 'sum']\n",
    "#     }\n",
    "    num_aggregations = {\n",
    "        'DAYS_CREDIT': ['min', 'max', 'mean', 'var'],\n",
    "        'DAYS_CREDIT_ENDDATE': ['min', 'max', 'mean', 'var'],\n",
    "        'DAYS_CREDIT_UPDATE': ['min', 'max', 'mean', 'var'],\n",
    "        'CREDIT_DAY_OVERDUE': ['max', 'min', 'mean', 'var'],\n",
    "        'AMT_CREDIT_MAX_OVERDUE': ['min', 'max', 'mean', 'var'],\n",
    "        'AMT_CREDIT_SUM': ['min', 'max', 'mean', 'sum', 'var'],\n",
    "        'AMT_CREDIT_SUM_DEBT': ['min', 'max', 'mean', 'sum', 'var'],\n",
    "        'AMT_CREDIT_SUM_OVERDUE': ['min', 'max', 'mean', 'var'],\n",
    "        'AMT_CREDIT_SUM_LIMIT': ['min', 'max', 'mean', 'sum', 'var'],\n",
    "        'AMT_ANNUITY': ['min', 'max', 'mean', 'var'],\n",
    "        'CNT_CREDIT_PROLONG': ['sum'],\n",
    "        'MONTHS_BALANCE_MIN': ['min'],\n",
    "        'MONTHS_BALANCE_MAX': ['max'],\n",
    "        'MONTHS_BALANCE_SIZE': ['mean', 'sum', 'var']\n",
    "    }\n",
    "    # Bureau and bureau_balance categorical features\n",
    "    cat_aggregations = {}\n",
    "    for cat in bureau_cat: cat_aggregations[cat] = ['mean']\n",
    "    for cat in bb_cat: cat_aggregations[cat + \"_MEAN\"] = ['mean']\n",
    "    \n",
    "    bureau_agg = bureau.groupby('SK_ID_CURR').agg({**num_aggregations, **cat_aggregations})\n",
    "    bureau_agg.columns = pd.Index(['BURO_' + e[0] + \"_\" + e[1].upper() for e in bureau_agg.columns.tolist()])\n",
    "    \n",
    "    # Bureau: Active credits - using only numerical aggregations\n",
    "    active = bureau[bureau['CREDIT_ACTIVE_Active'] == 1]\n",
    "    active_agg = active.groupby('SK_ID_CURR').agg(num_aggregations)\n",
    "    active_agg.columns = pd.Index(['ACTIVE_' + e[0] + \"_\" + e[1].upper() for e in active_agg.columns.tolist()])\n",
    "    active_agg['ACTIVE_DEBT_CREDIT_RATIO'] = active_agg['ACTIVE_AMT_CREDIT_SUM_DEBT_SUM']/active_agg['ACTIVE_AMT_CREDIT_SUM_SUM']\n",
    "    bureau_agg = bureau_agg.join(active_agg, how='left', on='SK_ID_CURR')\n",
    "    del active, active_agg\n",
    "    gc.collect()\n",
    "    \n",
    "    # Bureau: Closed credits - using only numerical aggregations\n",
    "    closed = bureau[bureau['CREDIT_ACTIVE_Closed'] == 1]\n",
    "    closed_agg = closed.groupby('SK_ID_CURR').agg(num_aggregations)\n",
    "    closed_agg.columns = pd.Index(['CLOSED_' + e[0] + \"_\" + e[1].upper() for e in closed_agg.columns.tolist()])\n",
    "    closed_agg['CLOSED_DEBT_CREDIT_RATIO'] = closed_agg['CLOSED_AMT_CREDIT_SUM_DEBT_SUM']/closed_agg['CLOSED_AMT_CREDIT_SUM_SUM']\n",
    "\n",
    "    bureau_agg = bureau_agg.join(closed_agg, how='left', on='SK_ID_CURR')\n",
    "    del closed, closed_agg, bureau\n",
    "    gc.collect()\n",
    "    \n",
    "    # Bureau: DEBT_CREDIT_RATIO - AMT_CREDIT_SUM_DEBT/AMT_CREDIT_SUM\n",
    "    return bureau_agg"
   ]
  },
  {
   "cell_type": "code",
   "execution_count": 8,
   "metadata": {},
   "outputs": [],
   "source": [
    "def days_diff_agg(bureau_agg):\n",
    "    bureau = pd.read_csv('../data/raw/bureau.csv')\n",
    "    # 每次借款的間隔天數（是很規律的，還是臨時借的？）\n",
    "    B = bureau.copy()\n",
    "    # Groupby each Customer and Sort values of DAYS_CREDIT in ascending order\n",
    "    grp = B[['SK_ID_CURR', 'SK_ID_BUREAU', 'DAYS_CREDIT']].groupby(by = ['SK_ID_CURR'])\n",
    "    grp1 = grp\\\n",
    "        .apply(lambda x: x.sort_values(['DAYS_CREDIT'], ascending = False))\\\n",
    "        .reset_index(drop=True)\n",
    "    print(\"Grouping and Sorting done\")\n",
    "\n",
    "    # Calculate Difference between the number of Days \n",
    "    grp1['DAYS_CREDIT1'] = grp1['DAYS_CREDIT']*-1\n",
    "    grp1['DAYS_DIFF'] = grp1\\\n",
    "        .groupby(by = ['SK_ID_CURR'])['DAYS_CREDIT1']\\\n",
    "        .diff()\n",
    "    grp1['DAYS_DIFF'] = grp1['DAYS_DIFF'].fillna(0).astype('uint32')\n",
    "    print(\"Difference days calculated\")\n",
    "\n",
    "    grp2 = grp1.reindex(columns=[\"SK_ID_BUREAU\", \"DAYS_DIFF\"])\n",
    "    B = B.merge(grp2, on=['SK_ID_BUREAU'], how='left')\n",
    "    \n",
    "    days_diff_agg = B[['SK_ID_CURR', 'DAYS_DIFF']]\\\n",
    "        .groupby('SK_ID_CURR')\\\n",
    "        .agg({'DAYS_DIFF': ['mean', 'var', 'max']})\n",
    "    days_diff_agg.columns = pd.Index([e[0] + \"_\" + e[1].upper() for e in days_diff_agg.columns.tolist()])\n",
    "    bureau_agg = bureau_agg.join(days_diff_agg, how='left', on='SK_ID_CURR')\n",
    "    \n",
    "    del B, grp, grp1, grp2, days_diff_agg\n",
    "    gc.collect()\n",
    "\n",
    "    return bureau_agg"
   ]
  },
  {
   "cell_type": "code",
   "execution_count": 6,
   "metadata": {},
   "outputs": [],
   "source": [
    "def main(sample=False, filename='../data/preprocess/bureau_features.csv'):\n",
    "    if os.path.exists(filename):\n",
    "        return pd.read_csv(filename)\n",
    "\n",
    "    num_rows = 10000 if sample else None\n",
    "    with timer(\"Process bureau and bureau_balance\"):\n",
    "        bureau = bureau_and_balance(num_rows, True)\n",
    "        bureau = days_diff_agg(bureau)\n",
    "        print(\"Bureau df shape:\", bureau.shape)\n",
    "        bureau.to_csv(filename)\n",
    "        return bureau"
   ]
  },
  {
   "cell_type": "code",
   "execution_count": 9,
   "metadata": {},
   "outputs": [
    {
     "name": "stdout",
     "output_type": "stream",
     "text": [
      "Grouping and Sorting done\n",
      "Difference days calculated\n",
      "Bureau df shape: (305811, 187)\n",
      "Process bureau and bureau_balance - done in 758s\n"
     ]
    }
   ],
   "source": [
    "df = main()\n",
    "# Bureau df shape: (305811, 121)\n",
    "# Bureau df shape: (305811, 187)"
   ]
  },
  {
   "cell_type": "code",
   "execution_count": null,
   "metadata": {},
   "outputs": [],
   "source": [
    "for col in df.columns:\n",
    "    print(col)"
   ]
  },
  {
   "cell_type": "code",
   "execution_count": null,
   "metadata": {},
   "outputs": [],
   "source": [
    "df.columns"
   ]
  }
 ],
 "metadata": {
  "kernelspec": {
   "display_name": "Python 3",
   "language": "python",
   "name": "python3"
  },
  "language_info": {
   "codemirror_mode": {
    "name": "ipython",
    "version": 3
   },
   "file_extension": ".py",
   "mimetype": "text/x-python",
   "name": "python",
   "nbconvert_exporter": "python",
   "pygments_lexer": "ipython3",
   "version": "3.6.5"
  }
 },
 "nbformat": 4,
 "nbformat_minor": 2
}
